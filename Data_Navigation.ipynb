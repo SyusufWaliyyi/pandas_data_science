{
 "cells": [
  {
   "cell_type": "markdown",
   "metadata": {},
   "source": [
    "Family Dictionary data information"
   ]
  },
  {
   "cell_type": "code",
   "execution_count": 2,
   "metadata": {},
   "outputs": [
    {
     "name": "stdout",
     "output_type": "stream",
     "text": [
      "family_data = {'Name': ['Muhammad', 'Fatia', 'Adil', 'Alisha', 'Shayyid', 'Ammi', 'Islam'], 'Gender': ['Male', 'Female', 'Male', 'Female', 'Male', 'Female', 'Female'], 'Age': [34, 22, 17, 3, 25, 2, 3.3], 'Height': [1.68, 1.23, 1.7, 0.9, 1.5, 1.0, 0.85], 'Weight': [60, 40, 50, 10, 55, 15, 12], 'Blood Group': ['A+', 'B+', 'O+', 'O+', 'O+', 'O+', 'O+'], 'Occupation': ['Engineer', 'Doctor', 'Teacher', 'Teacher', 'Engineer', 'Doctor', 'Doctor'], 'Friends': [2, 1, 0, 1, 2, 0, 1], 'Family Size': [3, 2, 1, 1, 2, 1, 1], 'Education': ['Bachelor', 'Master', 'High School', 'High School', 'Bachelor', 'Master', 'Bachelor'], 'Income': [100000, 150000, 50000, 50000, 100000, 150000, 100000], 'Hobbies': ['Reading', 'Cooking', 'Singing', 'Playing', 'Reading', 'Cooking', 'Cooking'], 'Favourite Food': ['Biryani', 'rice', 'Biryani', 'Biryani', 'Biryani', 'rice', 'rice'], 'Favourite Color': ['Blue', 'Pink', 'Red', 'Green', 'Blue', 'Pink', 'Pink'], 'Hobby Duration': [3, 5, 2, 4, 3, 5, 4], 'Sleep Duration': [6, 8, 7, 10, 6, 8, 10], 'Family Relation': ['Uncle', 'Aunt', 'Brother', 'Sister', 'Uncle', 'Aunt', 'Aunt'], 'Family Status': ['Married', 'Single', 'Single', 'Single', 'Married', 'Single', 'Single'], 'Family Income': [200000, 150000, 50000, 50000, 200000, 150000, 150000], 'Family Friends': [5, 2, 1, 1, 5, 2, 2], 'Family Education': ['Master', 'Master', 'High School', 'High School', 'Master', 'Master', 'Master'], 'Family Hobbies': ['Reading', 'Cooking', 'Singing', 'Playing', 'Reading', 'Cooking', 'Cooking'], 'Family Favourite Food': ['Biryani', 'rice', 'Biryani', 'Biryani', 'Biryani', 'rice', 'rice'], 'Family Favourite Color': ['Blue', 'Pink', 'Red', 'Green', 'Blue', 'Pink', 'Pink'], 'Family Hobby Duration': [3, 5, 2, 4, 3, 5, 4]}\n"
     ]
    }
   ],
   "source": [
    "family_data = {\n",
    "'Name' : ['Muhammad', 'Fatia', 'Adil','Alisha', 'Shayyid', 'Ammi', 'Islam'],\n",
    "    'Gender' : ['Male', 'Female', 'Male', 'Female', 'Male', 'Female', 'Female'],\n",
    "    'Age' : [34, 22, 17, 3, 25, 2, 3.3],\n",
    "    'Height' : [1.68, 1.23, 1.7, 0.9, 1.5, 1.0, 0.85],\n",
    "    'Weight' : [60, 40, 50, 10, 55, 15, 12],\n",
    "    'Blood Group' : ['A+', 'B+', 'O+', 'O+', 'O+', 'O+', 'O+'],\n",
    "    'Occupation' : ['Engineer', 'Doctor', 'Teacher', 'Teacher', 'Engineer', 'Doctor', 'Doctor'],\n",
    "    'Friends' : [2, 1, 0, 1, 2, 0, 1],\n",
    "    'Family Size' : [3, 2, 1, 1, 2, 1, 1],\n",
    "    'Education' : ['Bachelor', 'Master', 'High School', 'High School', 'Bachelor', 'Master', 'Bachelor'],\n",
    "    'Income' : [100000, 150000, 50000, 50000, 100000, 150000, 100000],\n",
    "    'Hobbies' : ['Reading', 'Cooking', 'Singing', 'Playing', 'Reading', 'Cooking', 'Cooking'],\n",
    "    'Favourite Food' : ['Biryani', 'rice', 'Biryani', 'Biryani', 'Biryani', 'rice', 'rice'],\n",
    "    'Favourite Color' : ['Blue', 'Pink', 'Red', 'Green', 'Blue', 'Pink', 'Pink'],\n",
    "    'Hobby Duration' : [3, 5, 2, 4, 3, 5, 4],\n",
    "    'Sleep Duration' : [6, 8, 7, 10, 6, 8, 10],\n",
    "    'Family Relation' : ['Uncle', 'Aunt', 'Brother', 'Sister', 'Uncle', 'Aunt', 'Aunt'],\n",
    "    'Family Status' : ['Married', 'Single', 'Single', 'Single', 'Married', 'Single', 'Single'],\n",
    "    'Family Income' : [200000, 150000, 50000, 50000, 200000, 150000, 150000],\n",
    "    'Family Friends' : [5, 2, 1, 1, 5, 2, 2],\n",
    "    'Family Education' : ['Master', 'Master', 'High School', 'High School', 'Master', 'Master', 'Master'],\n",
    "    'Family Hobbies' : ['Reading', 'Cooking', 'Singing', 'Playing', 'Reading', 'Cooking', 'Cooking'],\n",
    "    'Family Favourite Food' : ['Biryani', 'rice', 'Biryani', 'Biryani', 'Biryani', 'rice', 'rice'],\n",
    "    'Family Favourite Color' : ['Blue', 'Pink', 'Red', 'Green', 'Blue', 'Pink', 'Pink'],\n",
    "    'Family Hobby Duration' : [3, 5, 2, 4, 3, 5, 4]\n",
    "}\n",
    "\n",
    "print(f'family_data = {family_data}')"
   ]
  },
  {
   "cell_type": "markdown",
   "metadata": {},
   "source": [
    "Converting the dictionary data set to pandas frame"
   ]
  },
  {
   "cell_type": "code",
   "execution_count": 3,
   "metadata": {},
   "outputs": [],
   "source": [
    "import pandas as pd"
   ]
  },
  {
   "cell_type": "code",
   "execution_count": 4,
   "metadata": {},
   "outputs": [
    {
     "name": "stdout",
     "output_type": "stream",
     "text": [
      "       Name  Gender   Age  Height  Weight Blood Group Occupation  Friends  \\\n",
      "0  Muhammad    Male  34.0    1.68      60          A+   Engineer        2   \n",
      "1     Fatia  Female  22.0    1.23      40          B+     Doctor        1   \n",
      "2      Adil    Male  17.0    1.70      50          O+    Teacher        0   \n",
      "3    Alisha  Female   3.0    0.90      10          O+    Teacher        1   \n",
      "4   Shayyid    Male  25.0    1.50      55          O+   Engineer        2   \n",
      "5      Ammi  Female   2.0    1.00      15          O+     Doctor        0   \n",
      "6     Islam  Female   3.3    0.85      12          O+     Doctor        1   \n",
      "\n",
      "   Family Size    Education  ...  Sleep Duration Family Relation  \\\n",
      "0            3     Bachelor  ...               6           Uncle   \n",
      "1            2       Master  ...               8            Aunt   \n",
      "2            1  High School  ...               7         Brother   \n",
      "3            1  High School  ...              10          Sister   \n",
      "4            2     Bachelor  ...               6           Uncle   \n",
      "5            1       Master  ...               8            Aunt   \n",
      "6            1     Bachelor  ...              10            Aunt   \n",
      "\n",
      "  Family Status Family Income  Family Friends  Family Education  \\\n",
      "0       Married        200000               5            Master   \n",
      "1        Single        150000               2            Master   \n",
      "2        Single         50000               1       High School   \n",
      "3        Single         50000               1       High School   \n",
      "4       Married        200000               5            Master   \n",
      "5        Single        150000               2            Master   \n",
      "6        Single        150000               2            Master   \n",
      "\n",
      "  Family Hobbies Family Favourite Food  Family Favourite Color  \\\n",
      "0        Reading               Biryani                    Blue   \n",
      "1        Cooking                  rice                    Pink   \n",
      "2        Singing               Biryani                     Red   \n",
      "3        Playing               Biryani                   Green   \n",
      "4        Reading               Biryani                    Blue   \n",
      "5        Cooking                  rice                    Pink   \n",
      "6        Cooking                  rice                    Pink   \n",
      "\n",
      "   Family Hobby Duration  \n",
      "0                      3  \n",
      "1                      5  \n",
      "2                      2  \n",
      "3                      4  \n",
      "4                      3  \n",
      "5                      5  \n",
      "6                      4  \n",
      "\n",
      "[7 rows x 25 columns]\n"
     ]
    }
   ],
   "source": [
    "fframe = pd.DataFrame(family_data)\n",
    "print(fframe)"
   ]
  },
  {
   "cell_type": "markdown",
   "metadata": {},
   "source": [
    "Information about the family data structure"
   ]
  },
  {
   "cell_type": "code",
   "execution_count": 5,
   "metadata": {},
   "outputs": [
    {
     "name": "stdout",
     "output_type": "stream",
     "text": [
      "<class 'pandas.core.frame.DataFrame'>\n",
      "RangeIndex: 7 entries, 0 to 6\n",
      "Data columns (total 25 columns):\n",
      " #   Column                  Non-Null Count  Dtype  \n",
      "---  ------                  --------------  -----  \n",
      " 0   Name                    7 non-null      object \n",
      " 1   Gender                  7 non-null      object \n",
      " 2   Age                     7 non-null      float64\n",
      " 3   Height                  7 non-null      float64\n",
      " 4   Weight                  7 non-null      int64  \n",
      " 5   Blood Group             7 non-null      object \n",
      " 6   Occupation              7 non-null      object \n",
      " 7   Friends                 7 non-null      int64  \n",
      " 8   Family Size             7 non-null      int64  \n",
      " 9   Education               7 non-null      object \n",
      " 10  Income                  7 non-null      int64  \n",
      " 11  Hobbies                 7 non-null      object \n",
      " 12  Favourite Food          7 non-null      object \n",
      " 13  Favourite Color         7 non-null      object \n",
      " 14  Hobby Duration          7 non-null      int64  \n",
      " 15  Sleep Duration          7 non-null      int64  \n",
      " 16  Family Relation         7 non-null      object \n",
      " 17  Family Status           7 non-null      object \n",
      " 18  Family Income           7 non-null      int64  \n",
      " 19  Family Friends          7 non-null      int64  \n",
      " 20  Family Education        7 non-null      object \n",
      " 21  Family Hobbies          7 non-null      object \n",
      " 22  Family Favourite Food   7 non-null      object \n",
      " 23  Family Favourite Color  7 non-null      object \n",
      " 24  Family Hobby Duration   7 non-null      int64  \n",
      "dtypes: float64(2), int64(9), object(14)\n",
      "memory usage: 1.5+ KB\n",
      "Information about the family \n",
      "None\n"
     ]
    }
   ],
   "source": [
    "print(f'Information about the family \\n{fframe.info()}')"
   ]
  },
  {
   "cell_type": "markdown",
   "metadata": {},
   "source": [
    "Statistical description of the family structure"
   ]
  },
  {
   "cell_type": "code",
   "execution_count": 6,
   "metadata": {},
   "outputs": [
    {
     "name": "stdout",
     "output_type": "stream",
     "text": [
      "Family Data Description \n",
      "             Age    Height     Weight   Friends  Family Size         Income  \\\n",
      "count   7.000000  7.000000   7.000000  7.000000     7.000000       7.000000   \n",
      "mean   15.185714  1.265714  34.571429  1.000000     1.571429  100000.000000   \n",
      "std    12.673125  0.363678  21.709116  0.816497     0.786796   40824.829046   \n",
      "min     2.000000  0.850000  10.000000  0.000000     1.000000   50000.000000   \n",
      "25%     3.150000  0.950000  13.500000  0.500000     1.000000   75000.000000   \n",
      "50%    17.000000  1.230000  40.000000  1.000000     1.000000  100000.000000   \n",
      "75%    23.500000  1.590000  52.500000  1.500000     2.000000  125000.000000   \n",
      "max    34.000000  1.700000  60.000000  2.000000     3.000000  150000.000000   \n",
      "\n",
      "       Hobby Duration  Sleep Duration  Family Income  Family Friends  \\\n",
      "count        7.000000        7.000000       7.000000        7.000000   \n",
      "mean         3.714286        7.857143  135714.285714        2.571429   \n",
      "std          1.112697        1.676163   62678.317053        1.718249   \n",
      "min          2.000000        6.000000   50000.000000        1.000000   \n",
      "25%          3.000000        6.500000  100000.000000        1.500000   \n",
      "50%          4.000000        8.000000  150000.000000        2.000000   \n",
      "75%          4.500000        9.000000  175000.000000        3.500000   \n",
      "max          5.000000       10.000000  200000.000000        5.000000   \n",
      "\n",
      "       Family Hobby Duration  \n",
      "count               7.000000  \n",
      "mean                3.714286  \n",
      "std                 1.112697  \n",
      "min                 2.000000  \n",
      "25%                 3.000000  \n",
      "50%                 4.000000  \n",
      "75%                 4.500000  \n",
      "max                 5.000000  \n"
     ]
    }
   ],
   "source": [
    "print(f'Family Data Description \\n{fframe.describe()}')"
   ]
  },
  {
   "cell_type": "markdown",
   "metadata": {},
   "source": [
    "Slicing information about the family structure"
   ]
  },
  {
   "cell_type": "code",
   "execution_count": 7,
   "metadata": {},
   "outputs": [
    {
     "name": "stdout",
     "output_type": "stream",
     "text": [
      "Age = \n",
      "Name\n",
      "Muhammad    34.0\n",
      "Fatia       22.0\n",
      "Adil        17.0\n",
      "Alisha       3.0\n",
      "Shayyid     25.0\n",
      "Ammi         2.0\n",
      "Islam        3.3\n",
      "Name: Age, dtype: float64\n"
     ]
    }
   ],
   "source": [
    "age= fframe.set_index('Name')['Age']\n",
    "print(f'Age = \\n{age}')"
   ]
  },
  {
   "cell_type": "code",
   "execution_count": 8,
   "metadata": {},
   "outputs": [
    {
     "name": "stdout",
     "output_type": "stream",
     "text": [
      "Height  \n",
      "Name\n",
      "Muhammad    1.68\n",
      "Fatia       1.23\n",
      "Adil        1.70\n",
      "Alisha      0.90\n",
      "Shayyid     1.50\n",
      "Ammi        1.00\n",
      "Islam       0.85\n",
      "Name: Height, dtype: float64\n"
     ]
    }
   ],
   "source": [
    "height= fframe.set_index('Name')['Height']\n",
    "print(f'Height  \\n{height}')"
   ]
  },
  {
   "cell_type": "code",
   "execution_count": 9,
   "metadata": {},
   "outputs": [
    {
     "name": "stdout",
     "output_type": "stream",
     "text": [
      "Height  \n",
      "Name\n",
      "Muhammad    60\n",
      "Fatia       40\n",
      "Adil        50\n",
      "Alisha      10\n",
      "Shayyid     55\n",
      "Ammi        15\n",
      "Islam       12\n",
      "Name: Weight, dtype: int64\n"
     ]
    }
   ],
   "source": [
    "weight = fframe.set_index('Name')['Weight']\n",
    "print(f'Height  \\n{weight}')"
   ]
  },
  {
   "cell_type": "code",
   "execution_count": 10,
   "metadata": {},
   "outputs": [
    {
     "name": "stdout",
     "output_type": "stream",
     "text": [
      "Height  \n",
      "          Weight   Age  Family Income\n",
      "Name                                 \n",
      "Muhammad      60  34.0         200000\n",
      "Fatia         40  22.0         150000\n",
      "Adil          50  17.0          50000\n",
      "Alisha        10   3.0          50000\n",
      "Shayyid       55  25.0         200000\n",
      "Ammi          15   2.0         150000\n",
      "Islam         12   3.3         150000\n"
     ]
    }
   ],
   "source": [
    "weight_age= fframe.set_index('Name')[['Weight', 'Age', 'Family Income']]\n",
    "print(f'Height  \\n{weight_age}')"
   ]
  },
  {
   "cell_type": "markdown",
   "metadata": {},
   "source": [
    "Body Mass Index of the family members"
   ]
  },
  {
   "cell_type": "code",
   "execution_count": 11,
   "metadata": {},
   "outputs": [
    {
     "name": "stdout",
     "output_type": "stream",
     "text": [
      "BMI of the family members \n",
      "Name\n",
      "Muhammad    21.258503\n",
      "Fatia       26.439289\n",
      "Adil        17.301038\n",
      "Alisha      12.345679\n",
      "Shayyid     24.444444\n",
      "Ammi        15.000000\n",
      "Islam       16.608997\n",
      "dtype: float64\n"
     ]
    }
   ],
   "source": [
    "bmi = weight / (height ** 2)\n",
    "print(f'BMI of the family members \\n{bmi}')"
   ]
  },
  {
   "cell_type": "code",
   "execution_count": 12,
   "metadata": {},
   "outputs": [
    {
     "name": "stdout",
     "output_type": "stream",
     "text": [
      "Family Income = \n",
      "Name\n",
      "Muhammad    200000\n",
      "Fatia       150000\n",
      "Adil         50000\n",
      "Alisha       50000\n",
      "Shayyid     200000\n",
      "Ammi        150000\n",
      "Islam       150000\n",
      "Name: Family Income, dtype: int64\n"
     ]
    }
   ],
   "source": [
    "family_income = fframe.set_index('Name')['Family Income']\n",
    "print(f'Family Income = \\n{family_income}')"
   ]
  },
  {
   "cell_type": "markdown",
   "metadata": {},
   "source": [
    "statistical operations"
   ]
  },
  {
   "cell_type": "markdown",
   "metadata": {},
   "source": [
    "Minimum Income"
   ]
  },
  {
   "cell_type": "code",
   "execution_count": 13,
   "metadata": {},
   "outputs": [
    {
     "name": "stdout",
     "output_type": "stream",
     "text": [
      "Adil earning 50000\n"
     ]
    }
   ],
   "source": [
    "min_income_amount = family_income.min()\n",
    "min_income_person = family_income.idxmin()\n",
    "print(f'{min_income_person} earning {min_income_amount}')"
   ]
  },
  {
   "cell_type": "markdown",
   "metadata": {},
   "source": [
    "Maxium_income"
   ]
  },
  {
   "cell_type": "code",
   "execution_count": 14,
   "metadata": {},
   "outputs": [
    {
     "name": "stdout",
     "output_type": "stream",
     "text": [
      "Muhammad earning 200000\n"
     ]
    }
   ],
   "source": [
    "max_income_amount = family_income.max()\n",
    "max_income_person = family_income.idxmax()\n",
    "print(f'{max_income_person} earning {max_income_amount}')"
   ]
  },
  {
   "cell_type": "code",
   "execution_count": 15,
   "metadata": {},
   "outputs": [
    {
     "name": "stdout",
     "output_type": "stream",
     "text": [
      "Mean = 135714.2857142857\n",
      "Madian = 150000.0\n",
      "Sum of all income = #950000\n",
      "Count = 7 units\n"
     ]
    }
   ],
   "source": [
    "# Mean age\n",
    "print(f'Mean = {family_income.mean()}')\n",
    "\n",
    "# Median Age\n",
    "print(f'Madian = {family_income.median()}')\n",
    "\n",
    "# Sum of all income classes\n",
    "print(f'Sum of all income = #{family_income.sum()}')\n",
    "\n",
    "# count\n",
    "print(f'Count = {family_income.count()} units')"
   ]
  },
  {
   "cell_type": "markdown",
   "metadata": {},
   "source": [
    "Grouoping and their statistical analysis"
   ]
  },
  {
   "cell_type": "code",
   "execution_count": 20,
   "metadata": {},
   "outputs": [
    {
     "name": "stdout",
     "output_type": "stream",
     "text": [
      "Group by Gender = \n",
      "<pandas.core.groupby.generic.SeriesGroupBy object at 0x000001FDDB6FD130>\n"
     ]
    }
   ],
   "source": [
    "groupby_gender = fframe.groupby('Gender')['Family Income']\n",
    "print(f'Group by Gender = \\n{groupby_gender}')"
   ]
  },
  {
   "cell_type": "code",
   "execution_count": 22,
   "metadata": {},
   "outputs": [
    {
     "name": "stdout",
     "output_type": "stream",
     "text": [
      "sum = \n",
      "Gender\n",
      "Female    500000\n",
      "Male      450000\n",
      "Name: Family Income, dtype: int64\n"
     ]
    }
   ],
   "source": [
    "print(f'sum = \\n{groupby_gender.sum()}')"
   ]
  },
  {
   "cell_type": "code",
   "execution_count": 23,
   "metadata": {},
   "outputs": [
    {
     "name": "stdout",
     "output_type": "stream",
     "text": [
      "mean = \n",
      "Gender\n",
      "Female    125000.0\n",
      "Male      150000.0\n",
      "Name: Family Income, dtype: float64\n"
     ]
    }
   ],
   "source": [
    "print(f'mean = \\n{groupby_gender.mean()}')"
   ]
  },
  {
   "cell_type": "code",
   "execution_count": 24,
   "metadata": {},
   "outputs": [
    {
     "name": "stdout",
     "output_type": "stream",
     "text": [
      "Median = \n",
      "Gender\n",
      "Female    150000.0\n",
      "Male      200000.0\n",
      "Name: Family Income, dtype: float64\n"
     ]
    }
   ],
   "source": [
    "print(f'Median = \\n{groupby_gender.median()}')"
   ]
  },
  {
   "cell_type": "code",
   "execution_count": 25,
   "metadata": {},
   "outputs": [
    {
     "name": "stdout",
     "output_type": "stream",
     "text": [
      "min = \n",
      "Gender\n",
      "Female    50000\n",
      "Male      50000\n",
      "Name: Family Income, dtype: int64\n"
     ]
    }
   ],
   "source": [
    "print(f'min = \\n{groupby_gender.min()}')"
   ]
  },
  {
   "cell_type": "code",
   "execution_count": 26,
   "metadata": {},
   "outputs": [
    {
     "name": "stdout",
     "output_type": "stream",
     "text": [
      "max= \n",
      "Gender\n",
      "Female    150000\n",
      "Male      200000\n",
      "Name: Family Income, dtype: int64\n"
     ]
    }
   ],
   "source": [
    "print(f'max= \\n{groupby_gender.max()}')"
   ]
  },
  {
   "cell_type": "code",
   "execution_count": 27,
   "metadata": {},
   "outputs": [
    {
     "name": "stdout",
     "output_type": "stream",
     "text": [
      "Skew = \n",
      "Gender\n",
      "Female   -2.000000\n",
      "Male     -1.732051\n",
      "Name: Family Income, dtype: float64\n"
     ]
    }
   ],
   "source": [
    "print(f'Skew = \\n{groupby_gender.skew()}')"
   ]
  },
  {
   "cell_type": "code",
   "execution_count": 28,
   "metadata": {},
   "outputs": [
    {
     "name": "stdout",
     "output_type": "stream",
     "text": [
      "variance = \n",
      "Gender\n",
      "Female    2.500000e+09\n",
      "Male      7.500000e+09\n",
      "Name: Family Income, dtype: float64\n"
     ]
    }
   ],
   "source": [
    "print(f'variance = \\n{groupby_gender.var()}')"
   ]
  },
  {
   "cell_type": "code",
   "execution_count": 29,
   "metadata": {},
   "outputs": [
    {
     "name": "stdout",
     "output_type": "stream",
     "text": [
      "Standard deviation = \n",
      "Gender\n",
      "Female    50000.000000\n",
      "Male      86602.540378\n",
      "Name: Family Income, dtype: float64\n"
     ]
    }
   ],
   "source": [
    "print(f'Standard deviation = \\n{groupby_gender.std()}')"
   ]
  },
  {
   "cell_type": "code",
   "execution_count": 30,
   "metadata": {},
   "outputs": [
    {
     "name": "stdout",
     "output_type": "stream",
     "text": [
      "SUM = \n",
      "Gender\n",
      "Female    4\n",
      "Male      3\n",
      "Name: Family Income, dtype: int64\n"
     ]
    }
   ],
   "source": [
    "print(f'SUM = \\n{groupby_gender.count()}')"
   ]
  },
  {
   "cell_type": "code",
   "execution_count": 31,
   "metadata": {},
   "outputs": [
    {
     "name": "stdout",
     "output_type": "stream",
     "text": [
      "SUM = \n",
      "Gender  Family Income\n",
      "Female  150000           3\n",
      "        50000            1\n",
      "Male    200000           2\n",
      "        50000            1\n",
      "Name: count, dtype: int64\n"
     ]
    }
   ],
   "source": [
    "print(f'SUM = \\n{groupby_gender.value_counts()}')"
   ]
  }
 ],
 "metadata": {
  "kernelspec": {
   "display_name": "Python 3",
   "language": "python",
   "name": "python3"
  },
  "language_info": {
   "codemirror_mode": {
    "name": "ipython",
    "version": 3
   },
   "file_extension": ".py",
   "mimetype": "text/x-python",
   "name": "python",
   "nbconvert_exporter": "python",
   "pygments_lexer": "ipython3",
   "version": "3.13.2"
  }
 },
 "nbformat": 4,
 "nbformat_minor": 2
}
